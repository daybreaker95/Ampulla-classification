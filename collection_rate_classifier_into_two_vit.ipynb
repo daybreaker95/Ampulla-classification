{
  "nbformat": 4,
  "nbformat_minor": 0,
  "metadata": {
    "colab": {
      "provenance": [],
      "gpuType": "V28",
      "mount_file_id": "1ShQFygYaG6USbWzHHLoB1sf1dTPdIs-W",
      "authorship_tag": "ABX9TyNiPEOXJifoewc2aDKxGFGa",
      "include_colab_link": true
    },
    "kernelspec": {
      "name": "python3",
      "display_name": "Python 3"
    },
    "language_info": {
      "name": "python"
    },
    "accelerator": "TPU",
    "widgets": {
      "application/vnd.jupyter.widget-state+json": {
        "2a4ad7a375314aeb8b9cf4aaa41e6ce0": {
          "model_module": "@jupyter-widgets/controls",
          "model_name": "HBoxModel",
          "model_module_version": "1.5.0",
          "state": {
            "_dom_classes": [],
            "_model_module": "@jupyter-widgets/controls",
            "_model_module_version": "1.5.0",
            "_model_name": "HBoxModel",
            "_view_count": null,
            "_view_module": "@jupyter-widgets/controls",
            "_view_module_version": "1.5.0",
            "_view_name": "HBoxView",
            "box_style": "",
            "children": [
              "IPY_MODEL_824fd8f90f444a0fbec04aaa8730b35a",
              "IPY_MODEL_1f2eeed92cd04d6c84dca02cf9903e67",
              "IPY_MODEL_83270a57c2964633b9e3edc7af9f972d"
            ],
            "layout": "IPY_MODEL_174ddcf78b3b4caf8149080c8ca8a43f"
          }
        },
        "824fd8f90f444a0fbec04aaa8730b35a": {
          "model_module": "@jupyter-widgets/controls",
          "model_name": "HTMLModel",
          "model_module_version": "1.5.0",
          "state": {
            "_dom_classes": [],
            "_model_module": "@jupyter-widgets/controls",
            "_model_module_version": "1.5.0",
            "_model_name": "HTMLModel",
            "_view_count": null,
            "_view_module": "@jupyter-widgets/controls",
            "_view_module_version": "1.5.0",
            "_view_name": "HTMLView",
            "description": "",
            "description_tooltip": null,
            "layout": "IPY_MODEL_182ddbac80c744f8ac159ec8644c8501",
            "placeholder": "​",
            "style": "IPY_MODEL_799cb48c91d94d749d89230b3193bb58",
            "value": "Generating train split: "
          }
        },
        "1f2eeed92cd04d6c84dca02cf9903e67": {
          "model_module": "@jupyter-widgets/controls",
          "model_name": "FloatProgressModel",
          "model_module_version": "1.5.0",
          "state": {
            "_dom_classes": [],
            "_model_module": "@jupyter-widgets/controls",
            "_model_module_version": "1.5.0",
            "_model_name": "FloatProgressModel",
            "_view_count": null,
            "_view_module": "@jupyter-widgets/controls",
            "_view_module_version": "1.5.0",
            "_view_name": "ProgressView",
            "bar_style": "success",
            "description": "",
            "description_tooltip": null,
            "layout": "IPY_MODEL_88969df823fb4e15bbcb90875b9de159",
            "max": 1,
            "min": 0,
            "orientation": "horizontal",
            "style": "IPY_MODEL_24fec2da0ca44b4a98c996da3d0a9a2b",
            "value": 1
          }
        },
        "83270a57c2964633b9e3edc7af9f972d": {
          "model_module": "@jupyter-widgets/controls",
          "model_name": "HTMLModel",
          "model_module_version": "1.5.0",
          "state": {
            "_dom_classes": [],
            "_model_module": "@jupyter-widgets/controls",
            "_model_module_version": "1.5.0",
            "_model_name": "HTMLModel",
            "_view_count": null,
            "_view_module": "@jupyter-widgets/controls",
            "_view_module_version": "1.5.0",
            "_view_name": "HTMLView",
            "description": "",
            "description_tooltip": null,
            "layout": "IPY_MODEL_60d6643975084f64b446b28bc87c9883",
            "placeholder": "​",
            "style": "IPY_MODEL_6c39d30d51264efaab63d8a0cc5b49f4",
            "value": " 77/0 [00:00&lt;00:00, 3528.24 examples/s]"
          }
        },
        "174ddcf78b3b4caf8149080c8ca8a43f": {
          "model_module": "@jupyter-widgets/base",
          "model_name": "LayoutModel",
          "model_module_version": "1.2.0",
          "state": {
            "_model_module": "@jupyter-widgets/base",
            "_model_module_version": "1.2.0",
            "_model_name": "LayoutModel",
            "_view_count": null,
            "_view_module": "@jupyter-widgets/base",
            "_view_module_version": "1.2.0",
            "_view_name": "LayoutView",
            "align_content": null,
            "align_items": null,
            "align_self": null,
            "border": null,
            "bottom": null,
            "display": null,
            "flex": null,
            "flex_flow": null,
            "grid_area": null,
            "grid_auto_columns": null,
            "grid_auto_flow": null,
            "grid_auto_rows": null,
            "grid_column": null,
            "grid_gap": null,
            "grid_row": null,
            "grid_template_areas": null,
            "grid_template_columns": null,
            "grid_template_rows": null,
            "height": null,
            "justify_content": null,
            "justify_items": null,
            "left": null,
            "margin": null,
            "max_height": null,
            "max_width": null,
            "min_height": null,
            "min_width": null,
            "object_fit": null,
            "object_position": null,
            "order": null,
            "overflow": null,
            "overflow_x": null,
            "overflow_y": null,
            "padding": null,
            "right": null,
            "top": null,
            "visibility": null,
            "width": null
          }
        },
        "182ddbac80c744f8ac159ec8644c8501": {
          "model_module": "@jupyter-widgets/base",
          "model_name": "LayoutModel",
          "model_module_version": "1.2.0",
          "state": {
            "_model_module": "@jupyter-widgets/base",
            "_model_module_version": "1.2.0",
            "_model_name": "LayoutModel",
            "_view_count": null,
            "_view_module": "@jupyter-widgets/base",
            "_view_module_version": "1.2.0",
            "_view_name": "LayoutView",
            "align_content": null,
            "align_items": null,
            "align_self": null,
            "border": null,
            "bottom": null,
            "display": null,
            "flex": null,
            "flex_flow": null,
            "grid_area": null,
            "grid_auto_columns": null,
            "grid_auto_flow": null,
            "grid_auto_rows": null,
            "grid_column": null,
            "grid_gap": null,
            "grid_row": null,
            "grid_template_areas": null,
            "grid_template_columns": null,
            "grid_template_rows": null,
            "height": null,
            "justify_content": null,
            "justify_items": null,
            "left": null,
            "margin": null,
            "max_height": null,
            "max_width": null,
            "min_height": null,
            "min_width": null,
            "object_fit": null,
            "object_position": null,
            "order": null,
            "overflow": null,
            "overflow_x": null,
            "overflow_y": null,
            "padding": null,
            "right": null,
            "top": null,
            "visibility": null,
            "width": null
          }
        },
        "799cb48c91d94d749d89230b3193bb58": {
          "model_module": "@jupyter-widgets/controls",
          "model_name": "DescriptionStyleModel",
          "model_module_version": "1.5.0",
          "state": {
            "_model_module": "@jupyter-widgets/controls",
            "_model_module_version": "1.5.0",
            "_model_name": "DescriptionStyleModel",
            "_view_count": null,
            "_view_module": "@jupyter-widgets/base",
            "_view_module_version": "1.2.0",
            "_view_name": "StyleView",
            "description_width": ""
          }
        },
        "88969df823fb4e15bbcb90875b9de159": {
          "model_module": "@jupyter-widgets/base",
          "model_name": "LayoutModel",
          "model_module_version": "1.2.0",
          "state": {
            "_model_module": "@jupyter-widgets/base",
            "_model_module_version": "1.2.0",
            "_model_name": "LayoutModel",
            "_view_count": null,
            "_view_module": "@jupyter-widgets/base",
            "_view_module_version": "1.2.0",
            "_view_name": "LayoutView",
            "align_content": null,
            "align_items": null,
            "align_self": null,
            "border": null,
            "bottom": null,
            "display": null,
            "flex": null,
            "flex_flow": null,
            "grid_area": null,
            "grid_auto_columns": null,
            "grid_auto_flow": null,
            "grid_auto_rows": null,
            "grid_column": null,
            "grid_gap": null,
            "grid_row": null,
            "grid_template_areas": null,
            "grid_template_columns": null,
            "grid_template_rows": null,
            "height": null,
            "justify_content": null,
            "justify_items": null,
            "left": null,
            "margin": null,
            "max_height": null,
            "max_width": null,
            "min_height": null,
            "min_width": null,
            "object_fit": null,
            "object_position": null,
            "order": null,
            "overflow": null,
            "overflow_x": null,
            "overflow_y": null,
            "padding": null,
            "right": null,
            "top": null,
            "visibility": null,
            "width": "20px"
          }
        },
        "24fec2da0ca44b4a98c996da3d0a9a2b": {
          "model_module": "@jupyter-widgets/controls",
          "model_name": "ProgressStyleModel",
          "model_module_version": "1.5.0",
          "state": {
            "_model_module": "@jupyter-widgets/controls",
            "_model_module_version": "1.5.0",
            "_model_name": "ProgressStyleModel",
            "_view_count": null,
            "_view_module": "@jupyter-widgets/base",
            "_view_module_version": "1.2.0",
            "_view_name": "StyleView",
            "bar_color": null,
            "description_width": ""
          }
        },
        "60d6643975084f64b446b28bc87c9883": {
          "model_module": "@jupyter-widgets/base",
          "model_name": "LayoutModel",
          "model_module_version": "1.2.0",
          "state": {
            "_model_module": "@jupyter-widgets/base",
            "_model_module_version": "1.2.0",
            "_model_name": "LayoutModel",
            "_view_count": null,
            "_view_module": "@jupyter-widgets/base",
            "_view_module_version": "1.2.0",
            "_view_name": "LayoutView",
            "align_content": null,
            "align_items": null,
            "align_self": null,
            "border": null,
            "bottom": null,
            "display": null,
            "flex": null,
            "flex_flow": null,
            "grid_area": null,
            "grid_auto_columns": null,
            "grid_auto_flow": null,
            "grid_auto_rows": null,
            "grid_column": null,
            "grid_gap": null,
            "grid_row": null,
            "grid_template_areas": null,
            "grid_template_columns": null,
            "grid_template_rows": null,
            "height": null,
            "justify_content": null,
            "justify_items": null,
            "left": null,
            "margin": null,
            "max_height": null,
            "max_width": null,
            "min_height": null,
            "min_width": null,
            "object_fit": null,
            "object_position": null,
            "order": null,
            "overflow": null,
            "overflow_x": null,
            "overflow_y": null,
            "padding": null,
            "right": null,
            "top": null,
            "visibility": null,
            "width": null
          }
        },
        "6c39d30d51264efaab63d8a0cc5b49f4": {
          "model_module": "@jupyter-widgets/controls",
          "model_name": "DescriptionStyleModel",
          "model_module_version": "1.5.0",
          "state": {
            "_model_module": "@jupyter-widgets/controls",
            "_model_module_version": "1.5.0",
            "_model_name": "DescriptionStyleModel",
            "_view_count": null,
            "_view_module": "@jupyter-widgets/base",
            "_view_module_version": "1.2.0",
            "_view_name": "StyleView",
            "description_width": ""
          }
        },
        "34253239e3c040adae51d5cdb2a2c4b4": {
          "model_module": "@jupyter-widgets/controls",
          "model_name": "HBoxModel",
          "model_module_version": "1.5.0",
          "state": {
            "_dom_classes": [],
            "_model_module": "@jupyter-widgets/controls",
            "_model_module_version": "1.5.0",
            "_model_name": "HBoxModel",
            "_view_count": null,
            "_view_module": "@jupyter-widgets/controls",
            "_view_module_version": "1.5.0",
            "_view_name": "HBoxView",
            "box_style": "",
            "children": [
              "IPY_MODEL_1ec424069fbe4fc08a8c08c52130232f",
              "IPY_MODEL_6f06b2da1ca04f0eb13d03323ad63160",
              "IPY_MODEL_0ed148f2319f4da3bbbbe1842eeb1152"
            ],
            "layout": "IPY_MODEL_a084c66838c940fc8bf93f5320b4f054"
          }
        },
        "1ec424069fbe4fc08a8c08c52130232f": {
          "model_module": "@jupyter-widgets/controls",
          "model_name": "HTMLModel",
          "model_module_version": "1.5.0",
          "state": {
            "_dom_classes": [],
            "_model_module": "@jupyter-widgets/controls",
            "_model_module_version": "1.5.0",
            "_model_name": "HTMLModel",
            "_view_count": null,
            "_view_module": "@jupyter-widgets/controls",
            "_view_module_version": "1.5.0",
            "_view_name": "HTMLView",
            "description": "",
            "description_tooltip": null,
            "layout": "IPY_MODEL_29e33f050a3940e8a3b071dff70dfceb",
            "placeholder": "​",
            "style": "IPY_MODEL_50e6bd4ab11c4818a5d2b438406ec266",
            "value": "Map: 100%"
          }
        },
        "6f06b2da1ca04f0eb13d03323ad63160": {
          "model_module": "@jupyter-widgets/controls",
          "model_name": "FloatProgressModel",
          "model_module_version": "1.5.0",
          "state": {
            "_dom_classes": [],
            "_model_module": "@jupyter-widgets/controls",
            "_model_module_version": "1.5.0",
            "_model_name": "FloatProgressModel",
            "_view_count": null,
            "_view_module": "@jupyter-widgets/controls",
            "_view_module_version": "1.5.0",
            "_view_name": "ProgressView",
            "bar_style": "success",
            "description": "",
            "description_tooltip": null,
            "layout": "IPY_MODEL_edfc93538dab4c3c8492cfa07cd7efd8",
            "max": 77,
            "min": 0,
            "orientation": "horizontal",
            "style": "IPY_MODEL_3fe1e09948bf44c1b62e28e3649a3ca3",
            "value": 77
          }
        },
        "0ed148f2319f4da3bbbbe1842eeb1152": {
          "model_module": "@jupyter-widgets/controls",
          "model_name": "HTMLModel",
          "model_module_version": "1.5.0",
          "state": {
            "_dom_classes": [],
            "_model_module": "@jupyter-widgets/controls",
            "_model_module_version": "1.5.0",
            "_model_name": "HTMLModel",
            "_view_count": null,
            "_view_module": "@jupyter-widgets/controls",
            "_view_module_version": "1.5.0",
            "_view_name": "HTMLView",
            "description": "",
            "description_tooltip": null,
            "layout": "IPY_MODEL_606cf287281c40028d13a3a071041c28",
            "placeholder": "​",
            "style": "IPY_MODEL_687d2a8a262240af9d1921555fd3b760",
            "value": " 77/77 [00:00&lt;00:00, 4126.25 examples/s]"
          }
        },
        "a084c66838c940fc8bf93f5320b4f054": {
          "model_module": "@jupyter-widgets/base",
          "model_name": "LayoutModel",
          "model_module_version": "1.2.0",
          "state": {
            "_model_module": "@jupyter-widgets/base",
            "_model_module_version": "1.2.0",
            "_model_name": "LayoutModel",
            "_view_count": null,
            "_view_module": "@jupyter-widgets/base",
            "_view_module_version": "1.2.0",
            "_view_name": "LayoutView",
            "align_content": null,
            "align_items": null,
            "align_self": null,
            "border": null,
            "bottom": null,
            "display": null,
            "flex": null,
            "flex_flow": null,
            "grid_area": null,
            "grid_auto_columns": null,
            "grid_auto_flow": null,
            "grid_auto_rows": null,
            "grid_column": null,
            "grid_gap": null,
            "grid_row": null,
            "grid_template_areas": null,
            "grid_template_columns": null,
            "grid_template_rows": null,
            "height": null,
            "justify_content": null,
            "justify_items": null,
            "left": null,
            "margin": null,
            "max_height": null,
            "max_width": null,
            "min_height": null,
            "min_width": null,
            "object_fit": null,
            "object_position": null,
            "order": null,
            "overflow": null,
            "overflow_x": null,
            "overflow_y": null,
            "padding": null,
            "right": null,
            "top": null,
            "visibility": null,
            "width": null
          }
        },
        "29e33f050a3940e8a3b071dff70dfceb": {
          "model_module": "@jupyter-widgets/base",
          "model_name": "LayoutModel",
          "model_module_version": "1.2.0",
          "state": {
            "_model_module": "@jupyter-widgets/base",
            "_model_module_version": "1.2.0",
            "_model_name": "LayoutModel",
            "_view_count": null,
            "_view_module": "@jupyter-widgets/base",
            "_view_module_version": "1.2.0",
            "_view_name": "LayoutView",
            "align_content": null,
            "align_items": null,
            "align_self": null,
            "border": null,
            "bottom": null,
            "display": null,
            "flex": null,
            "flex_flow": null,
            "grid_area": null,
            "grid_auto_columns": null,
            "grid_auto_flow": null,
            "grid_auto_rows": null,
            "grid_column": null,
            "grid_gap": null,
            "grid_row": null,
            "grid_template_areas": null,
            "grid_template_columns": null,
            "grid_template_rows": null,
            "height": null,
            "justify_content": null,
            "justify_items": null,
            "left": null,
            "margin": null,
            "max_height": null,
            "max_width": null,
            "min_height": null,
            "min_width": null,
            "object_fit": null,
            "object_position": null,
            "order": null,
            "overflow": null,
            "overflow_x": null,
            "overflow_y": null,
            "padding": null,
            "right": null,
            "top": null,
            "visibility": null,
            "width": null
          }
        },
        "50e6bd4ab11c4818a5d2b438406ec266": {
          "model_module": "@jupyter-widgets/controls",
          "model_name": "DescriptionStyleModel",
          "model_module_version": "1.5.0",
          "state": {
            "_model_module": "@jupyter-widgets/controls",
            "_model_module_version": "1.5.0",
            "_model_name": "DescriptionStyleModel",
            "_view_count": null,
            "_view_module": "@jupyter-widgets/base",
            "_view_module_version": "1.2.0",
            "_view_name": "StyleView",
            "description_width": ""
          }
        },
        "edfc93538dab4c3c8492cfa07cd7efd8": {
          "model_module": "@jupyter-widgets/base",
          "model_name": "LayoutModel",
          "model_module_version": "1.2.0",
          "state": {
            "_model_module": "@jupyter-widgets/base",
            "_model_module_version": "1.2.0",
            "_model_name": "LayoutModel",
            "_view_count": null,
            "_view_module": "@jupyter-widgets/base",
            "_view_module_version": "1.2.0",
            "_view_name": "LayoutView",
            "align_content": null,
            "align_items": null,
            "align_self": null,
            "border": null,
            "bottom": null,
            "display": null,
            "flex": null,
            "flex_flow": null,
            "grid_area": null,
            "grid_auto_columns": null,
            "grid_auto_flow": null,
            "grid_auto_rows": null,
            "grid_column": null,
            "grid_gap": null,
            "grid_row": null,
            "grid_template_areas": null,
            "grid_template_columns": null,
            "grid_template_rows": null,
            "height": null,
            "justify_content": null,
            "justify_items": null,
            "left": null,
            "margin": null,
            "max_height": null,
            "max_width": null,
            "min_height": null,
            "min_width": null,
            "object_fit": null,
            "object_position": null,
            "order": null,
            "overflow": null,
            "overflow_x": null,
            "overflow_y": null,
            "padding": null,
            "right": null,
            "top": null,
            "visibility": null,
            "width": null
          }
        },
        "3fe1e09948bf44c1b62e28e3649a3ca3": {
          "model_module": "@jupyter-widgets/controls",
          "model_name": "ProgressStyleModel",
          "model_module_version": "1.5.0",
          "state": {
            "_model_module": "@jupyter-widgets/controls",
            "_model_module_version": "1.5.0",
            "_model_name": "ProgressStyleModel",
            "_view_count": null,
            "_view_module": "@jupyter-widgets/base",
            "_view_module_version": "1.2.0",
            "_view_name": "StyleView",
            "bar_color": null,
            "description_width": ""
          }
        },
        "606cf287281c40028d13a3a071041c28": {
          "model_module": "@jupyter-widgets/base",
          "model_name": "LayoutModel",
          "model_module_version": "1.2.0",
          "state": {
            "_model_module": "@jupyter-widgets/base",
            "_model_module_version": "1.2.0",
            "_model_name": "LayoutModel",
            "_view_count": null,
            "_view_module": "@jupyter-widgets/base",
            "_view_module_version": "1.2.0",
            "_view_name": "LayoutView",
            "align_content": null,
            "align_items": null,
            "align_self": null,
            "border": null,
            "bottom": null,
            "display": null,
            "flex": null,
            "flex_flow": null,
            "grid_area": null,
            "grid_auto_columns": null,
            "grid_auto_flow": null,
            "grid_auto_rows": null,
            "grid_column": null,
            "grid_gap": null,
            "grid_row": null,
            "grid_template_areas": null,
            "grid_template_columns": null,
            "grid_template_rows": null,
            "height": null,
            "justify_content": null,
            "justify_items": null,
            "left": null,
            "margin": null,
            "max_height": null,
            "max_width": null,
            "min_height": null,
            "min_width": null,
            "object_fit": null,
            "object_position": null,
            "order": null,
            "overflow": null,
            "overflow_x": null,
            "overflow_y": null,
            "padding": null,
            "right": null,
            "top": null,
            "visibility": null,
            "width": null
          }
        },
        "687d2a8a262240af9d1921555fd3b760": {
          "model_module": "@jupyter-widgets/controls",
          "model_name": "DescriptionStyleModel",
          "model_module_version": "1.5.0",
          "state": {
            "_model_module": "@jupyter-widgets/controls",
            "_model_module_version": "1.5.0",
            "_model_name": "DescriptionStyleModel",
            "_view_count": null,
            "_view_module": "@jupyter-widgets/base",
            "_view_module_version": "1.2.0",
            "_view_name": "StyleView",
            "description_width": ""
          }
        },
        "784b1a7ebb7b473b8427e7e01cda9299": {
          "model_module": "@jupyter-widgets/controls",
          "model_name": "HBoxModel",
          "model_module_version": "1.5.0",
          "state": {
            "_dom_classes": [],
            "_model_module": "@jupyter-widgets/controls",
            "_model_module_version": "1.5.0",
            "_model_name": "HBoxModel",
            "_view_count": null,
            "_view_module": "@jupyter-widgets/controls",
            "_view_module_version": "1.5.0",
            "_view_name": "HBoxView",
            "box_style": "",
            "children": [
              "IPY_MODEL_7e4f93e890f54a3185d7a119274b2263",
              "IPY_MODEL_5df308d24e534e36b8c28603dd531eb0",
              "IPY_MODEL_973bf0332fc14475a575d6da3c85ac04"
            ],
            "layout": "IPY_MODEL_57a79dbfb3bd44989a1fb1ddd8190a23"
          }
        },
        "7e4f93e890f54a3185d7a119274b2263": {
          "model_module": "@jupyter-widgets/controls",
          "model_name": "HTMLModel",
          "model_module_version": "1.5.0",
          "state": {
            "_dom_classes": [],
            "_model_module": "@jupyter-widgets/controls",
            "_model_module_version": "1.5.0",
            "_model_name": "HTMLModel",
            "_view_count": null,
            "_view_module": "@jupyter-widgets/controls",
            "_view_module_version": "1.5.0",
            "_view_name": "HTMLView",
            "description": "",
            "description_tooltip": null,
            "layout": "IPY_MODEL_7dd9a71284b042d6831a9fe0ceb15e6d",
            "placeholder": "​",
            "style": "IPY_MODEL_280b0542744e4553b7a33c03d2c22163",
            "value": "Casting the dataset: 100%"
          }
        },
        "5df308d24e534e36b8c28603dd531eb0": {
          "model_module": "@jupyter-widgets/controls",
          "model_name": "FloatProgressModel",
          "model_module_version": "1.5.0",
          "state": {
            "_dom_classes": [],
            "_model_module": "@jupyter-widgets/controls",
            "_model_module_version": "1.5.0",
            "_model_name": "FloatProgressModel",
            "_view_count": null,
            "_view_module": "@jupyter-widgets/controls",
            "_view_module_version": "1.5.0",
            "_view_name": "ProgressView",
            "bar_style": "success",
            "description": "",
            "description_tooltip": null,
            "layout": "IPY_MODEL_562196f1a97d4833aeadf8c4a764b37a",
            "max": 77,
            "min": 0,
            "orientation": "horizontal",
            "style": "IPY_MODEL_39f87b1ace4a4354b71f4b6902a081cc",
            "value": 77
          }
        },
        "973bf0332fc14475a575d6da3c85ac04": {
          "model_module": "@jupyter-widgets/controls",
          "model_name": "HTMLModel",
          "model_module_version": "1.5.0",
          "state": {
            "_dom_classes": [],
            "_model_module": "@jupyter-widgets/controls",
            "_model_module_version": "1.5.0",
            "_model_name": "HTMLModel",
            "_view_count": null,
            "_view_module": "@jupyter-widgets/controls",
            "_view_module_version": "1.5.0",
            "_view_name": "HTMLView",
            "description": "",
            "description_tooltip": null,
            "layout": "IPY_MODEL_a5da9c63444e476abe953fdfd64f7c91",
            "placeholder": "​",
            "style": "IPY_MODEL_5a1d113b15ce4c3fab43f29e6d6fa7e7",
            "value": " 77/77 [00:00&lt;00:00, 4979.29 examples/s]"
          }
        },
        "57a79dbfb3bd44989a1fb1ddd8190a23": {
          "model_module": "@jupyter-widgets/base",
          "model_name": "LayoutModel",
          "model_module_version": "1.2.0",
          "state": {
            "_model_module": "@jupyter-widgets/base",
            "_model_module_version": "1.2.0",
            "_model_name": "LayoutModel",
            "_view_count": null,
            "_view_module": "@jupyter-widgets/base",
            "_view_module_version": "1.2.0",
            "_view_name": "LayoutView",
            "align_content": null,
            "align_items": null,
            "align_self": null,
            "border": null,
            "bottom": null,
            "display": null,
            "flex": null,
            "flex_flow": null,
            "grid_area": null,
            "grid_auto_columns": null,
            "grid_auto_flow": null,
            "grid_auto_rows": null,
            "grid_column": null,
            "grid_gap": null,
            "grid_row": null,
            "grid_template_areas": null,
            "grid_template_columns": null,
            "grid_template_rows": null,
            "height": null,
            "justify_content": null,
            "justify_items": null,
            "left": null,
            "margin": null,
            "max_height": null,
            "max_width": null,
            "min_height": null,
            "min_width": null,
            "object_fit": null,
            "object_position": null,
            "order": null,
            "overflow": null,
            "overflow_x": null,
            "overflow_y": null,
            "padding": null,
            "right": null,
            "top": null,
            "visibility": null,
            "width": null
          }
        },
        "7dd9a71284b042d6831a9fe0ceb15e6d": {
          "model_module": "@jupyter-widgets/base",
          "model_name": "LayoutModel",
          "model_module_version": "1.2.0",
          "state": {
            "_model_module": "@jupyter-widgets/base",
            "_model_module_version": "1.2.0",
            "_model_name": "LayoutModel",
            "_view_count": null,
            "_view_module": "@jupyter-widgets/base",
            "_view_module_version": "1.2.0",
            "_view_name": "LayoutView",
            "align_content": null,
            "align_items": null,
            "align_self": null,
            "border": null,
            "bottom": null,
            "display": null,
            "flex": null,
            "flex_flow": null,
            "grid_area": null,
            "grid_auto_columns": null,
            "grid_auto_flow": null,
            "grid_auto_rows": null,
            "grid_column": null,
            "grid_gap": null,
            "grid_row": null,
            "grid_template_areas": null,
            "grid_template_columns": null,
            "grid_template_rows": null,
            "height": null,
            "justify_content": null,
            "justify_items": null,
            "left": null,
            "margin": null,
            "max_height": null,
            "max_width": null,
            "min_height": null,
            "min_width": null,
            "object_fit": null,
            "object_position": null,
            "order": null,
            "overflow": null,
            "overflow_x": null,
            "overflow_y": null,
            "padding": null,
            "right": null,
            "top": null,
            "visibility": null,
            "width": null
          }
        },
        "280b0542744e4553b7a33c03d2c22163": {
          "model_module": "@jupyter-widgets/controls",
          "model_name": "DescriptionStyleModel",
          "model_module_version": "1.5.0",
          "state": {
            "_model_module": "@jupyter-widgets/controls",
            "_model_module_version": "1.5.0",
            "_model_name": "DescriptionStyleModel",
            "_view_count": null,
            "_view_module": "@jupyter-widgets/base",
            "_view_module_version": "1.2.0",
            "_view_name": "StyleView",
            "description_width": ""
          }
        },
        "562196f1a97d4833aeadf8c4a764b37a": {
          "model_module": "@jupyter-widgets/base",
          "model_name": "LayoutModel",
          "model_module_version": "1.2.0",
          "state": {
            "_model_module": "@jupyter-widgets/base",
            "_model_module_version": "1.2.0",
            "_model_name": "LayoutModel",
            "_view_count": null,
            "_view_module": "@jupyter-widgets/base",
            "_view_module_version": "1.2.0",
            "_view_name": "LayoutView",
            "align_content": null,
            "align_items": null,
            "align_self": null,
            "border": null,
            "bottom": null,
            "display": null,
            "flex": null,
            "flex_flow": null,
            "grid_area": null,
            "grid_auto_columns": null,
            "grid_auto_flow": null,
            "grid_auto_rows": null,
            "grid_column": null,
            "grid_gap": null,
            "grid_row": null,
            "grid_template_areas": null,
            "grid_template_columns": null,
            "grid_template_rows": null,
            "height": null,
            "justify_content": null,
            "justify_items": null,
            "left": null,
            "margin": null,
            "max_height": null,
            "max_width": null,
            "min_height": null,
            "min_width": null,
            "object_fit": null,
            "object_position": null,
            "order": null,
            "overflow": null,
            "overflow_x": null,
            "overflow_y": null,
            "padding": null,
            "right": null,
            "top": null,
            "visibility": null,
            "width": null
          }
        },
        "39f87b1ace4a4354b71f4b6902a081cc": {
          "model_module": "@jupyter-widgets/controls",
          "model_name": "ProgressStyleModel",
          "model_module_version": "1.5.0",
          "state": {
            "_model_module": "@jupyter-widgets/controls",
            "_model_module_version": "1.5.0",
            "_model_name": "ProgressStyleModel",
            "_view_count": null,
            "_view_module": "@jupyter-widgets/base",
            "_view_module_version": "1.2.0",
            "_view_name": "StyleView",
            "bar_color": null,
            "description_width": ""
          }
        },
        "a5da9c63444e476abe953fdfd64f7c91": {
          "model_module": "@jupyter-widgets/base",
          "model_name": "LayoutModel",
          "model_module_version": "1.2.0",
          "state": {
            "_model_module": "@jupyter-widgets/base",
            "_model_module_version": "1.2.0",
            "_model_name": "LayoutModel",
            "_view_count": null,
            "_view_module": "@jupyter-widgets/base",
            "_view_module_version": "1.2.0",
            "_view_name": "LayoutView",
            "align_content": null,
            "align_items": null,
            "align_self": null,
            "border": null,
            "bottom": null,
            "display": null,
            "flex": null,
            "flex_flow": null,
            "grid_area": null,
            "grid_auto_columns": null,
            "grid_auto_flow": null,
            "grid_auto_rows": null,
            "grid_column": null,
            "grid_gap": null,
            "grid_row": null,
            "grid_template_areas": null,
            "grid_template_columns": null,
            "grid_template_rows": null,
            "height": null,
            "justify_content": null,
            "justify_items": null,
            "left": null,
            "margin": null,
            "max_height": null,
            "max_width": null,
            "min_height": null,
            "min_width": null,
            "object_fit": null,
            "object_position": null,
            "order": null,
            "overflow": null,
            "overflow_x": null,
            "overflow_y": null,
            "padding": null,
            "right": null,
            "top": null,
            "visibility": null,
            "width": null
          }
        },
        "5a1d113b15ce4c3fab43f29e6d6fa7e7": {
          "model_module": "@jupyter-widgets/controls",
          "model_name": "DescriptionStyleModel",
          "model_module_version": "1.5.0",
          "state": {
            "_model_module": "@jupyter-widgets/controls",
            "_model_module_version": "1.5.0",
            "_model_name": "DescriptionStyleModel",
            "_view_count": null,
            "_view_module": "@jupyter-widgets/base",
            "_view_module_version": "1.2.0",
            "_view_name": "StyleView",
            "description_width": ""
          }
        }
      }
    }
  },
  "cells": [
    {
      "cell_type": "markdown",
      "metadata": {
        "id": "view-in-github",
        "colab_type": "text"
      },
      "source": [
        "<a href=\"https://colab.research.google.com/github/daybreaker95/Ampulla-classification/blob/main/collection_rate_classifier_into_two_vit.ipynb\" target=\"_parent\"><img src=\"https://colab.research.google.com/assets/colab-badge.svg\" alt=\"Open In Colab\"/></a>"
      ]
    },
    {
      "cell_type": "code",
      "source": [
        "# !pip install datasets transformers accelerate torch scikit-learn matplotlib wandb"
      ],
      "metadata": {
        "collapsed": true,
        "id": "MZ1pyy1_mK6j"
      },
      "execution_count": null,
      "outputs": []
    },
    {
      "cell_type": "code",
      "source": [
        "# 출처: https://huggingface.co/learn/cookbook/fine_tuning_vit_custom_dataset"
      ],
      "metadata": {
        "id": "2IDkID_8v4Gx"
      },
      "execution_count": null,
      "outputs": []
    },
    {
      "cell_type": "code",
      "source": [
        "import pandas as pd\n",
        "import numpy as np\n",
        "import matplotlib.pyplot as plt\n",
        "import seaborn as sns\n",
        "import datetime\n",
        "from sklearn.metrics import roc_curve, auc\n",
        "import matplotlib.pyplot as plt"
      ],
      "metadata": {
        "id": "zNNMsys0xSuw"
      },
      "execution_count": null,
      "outputs": []
    },
    {
      "cell_type": "code",
      "source": [
        "# !pip install openpyxl\n",
        "\n",
        "df=pd.read_excel('/content/drive/MyDrive/박도현 교수님 연구실/췌액 채취 속도/십이지장 췌액 공유 시트 2024-11-01.xlsx', sheet_name='GI', skiprows=4)\n",
        "\n",
        "# df는 공유 데이터셋입니다.\n",
        "df = df.drop(index=0)\n",
        "df.columns = df.columns.str.replace('\\n', '', regex=True)\n",
        "\n",
        "# '분'과 '초'를 추출하는 함수 정의\n",
        "def extract_time(value):\n",
        "    # 'x분' 형태의 데이터를 찾음\n",
        "    if '분' in value and '초' not in value:\n",
        "        minutes = int(value.replace('분', ''))\n",
        "        return minutes\n",
        "    # 'x분y초' 형태의 데이터를 찾음\n",
        "    elif '분' in value and '초' in value:\n",
        "        parts = value.replace('분', '').replace('초', '').split()\n",
        "        minutes = int(parts[0])\n",
        "        seconds = int(parts[1])\n",
        "        return minutes + seconds / 60\n",
        "    else:\n",
        "        return None  # 해당되지 않는 경우 처리\n",
        "\n",
        "# 채취시간 공백 또는 중도탈락인 경우는 제외함, 그리고 다시 이것을 df으로 저장함\n",
        "df_drop=df[df['채취시간'].notnull()]\n",
        "df_drop_2 = df_drop.drop(df_drop[df_drop['채취시간'] == '중도탈락'].index)\n",
        "df=df_drop_2\n",
        "\n",
        "#'채취시간_분 열을 생성하고, 채취시간 데이터에 extract_time 함수를 적용함, 결과값은 분 형태로 정의\n",
        "df['collection_time_min'] = df['채취시간'].apply(extract_time)\n",
        "\n",
        "# '1.6/1.1' 값을 포함한 행의 인덱스 찾기\n",
        "index_to_drop = df[df['채취 용량 [cc]'] == '1.6/1.1'].index\n",
        "\n",
        "# 해당 인덱스를 사용하여 행 제거\n",
        "df = df.drop(index_to_drop)\n",
        "\n",
        "# Calculate '채취속도_ml/min' for the remaining rows\n",
        "df['collection_rate_ml/min'] = df['채취 용량 [cc]'].astype(float) / df['collection_time_min'].astype(float)\n",
        "# 여기까지가 data 정리입니다."
      ],
      "metadata": {
        "id": "nNx-eXbaxP2K"
      },
      "execution_count": null,
      "outputs": []
    },
    {
      "cell_type": "code",
      "source": [
        "# 채취에 2분 이상 걸리는 군, 즉 채취속도 0.1ml/min 이하가 되는 군을 예측해보겠습니다.\n",
        "def collection_rate_classifier(rate):\n",
        "  if rate<0.1:\n",
        "    return 1\n",
        "  else:\n",
        "    return 2\n",
        "\n",
        "df['collection_rate_class']=df['collection_rate_ml/min'].apply(collection_rate_classifier)"
      ],
      "metadata": {
        "id": "wwJVrnbgyZPO"
      },
      "execution_count": null,
      "outputs": []
    },
    {
      "cell_type": "code",
      "source": [
        "# 폴더 내의 모든 파일 이름 변경\n",
        "\n",
        "import os\n",
        "import pandas as pd\n",
        "\n",
        "# 파일 이름을 변경할 폴더 경로\n",
        "folder_path = '/content/drive/MyDrive/박도현 교수님 연구실/췌액 채취 속도/collection rate classification into two classes ViT/images'\n",
        "\n",
        "# 폴더 내의 모든 파일 이름 변경\n",
        "for file_name in os.listdir(folder_path):\n",
        "    # 파일의 전체 경로\n",
        "    old_file_path = os.path.join(folder_path, file_name)\n",
        "\n",
        "    # 파일이 파일인지 확인\n",
        "    if os.path.isfile(old_file_path):\n",
        "        # 파일 이름에서 등록번호와 이름 추출\n",
        "        parts = file_name.split(' ')\n",
        "\n",
        "        try:\n",
        "            # 첫 번째 부분을 등록번호로 변환 시도\n",
        "            registration_number = int(parts[0])\n",
        "\n",
        "            # df에서 해당 등록번호에 맞는 인덱스를 찾기\n",
        "            matching_row = df[df['등록번호'] == registration_number]\n",
        "\n",
        "            # 해당 등록번호가 df에 존재할 때만 진행\n",
        "            if not matching_row.empty and len(parts) >= 2:\n",
        "                # 이름 추출 및 collection_rate_class 값 가져오기\n",
        "                name = parts[1]\n",
        "                collection_rate_class = matching_row.iloc[0]['collection_rate_class']\n",
        "\n",
        "                # 새로운 파일 이름 구성\n",
        "                new_file_name = f\"{registration_number}.jpg\"  # 확장자에 맞게 변경\n",
        "                new_file_path = os.path.join(folder_path, new_file_name)\n",
        "\n",
        "                # 파일 이름 변경\n",
        "                os.rename(old_file_path, new_file_path)\n",
        "                print(f\"변경됨: {old_file_path} -> {new_file_path}\")\n",
        "            else:\n",
        "                print(f\"등록번호를 찾을 수 없음 또는 이름 형식 불일치: {file_name}\")\n",
        "\n",
        "        except ValueError:\n",
        "            print(f\"등록번호 변환 오류: {file_name}\")\n"
      ],
      "metadata": {
        "colab": {
          "base_uri": "https://localhost:8080/"
        },
        "collapsed": true,
        "id": "RPir04xS53rE",
        "outputId": "8dcdc761-ff04-4ac1-c46e-d4c7193c0495"
      },
      "execution_count": null,
      "outputs": [
        {
          "output_type": "stream",
          "name": "stdout",
          "text": [
            "등록번호 변환 오류: 33852489.jpg\n",
            "등록번호 변환 오류: 62323268.jpg\n",
            "등록번호 변환 오류: 35167644.jpg\n",
            "등록번호 변환 오류: 68039491.jpg\n",
            "등록번호 변환 오류: 69679582.jpg\n",
            "등록번호 변환 오류: 69280540.jpg\n",
            "등록번호 변환 오류: 68252674.jpg\n",
            "등록번호 변환 오류: 60491521.jpg\n",
            "등록번호 변환 오류: 55628996.jpg\n",
            "등록번호 변환 오류: 68719735.jpg\n",
            "등록번호 변환 오류: 69724103.jpg\n",
            "등록번호 변환 오류: 67313110.jpg\n",
            "등록번호 변환 오류: 68505943.jpg\n",
            "등록번호 변환 오류: 69489626.jpg\n",
            "등록번호 변환 오류: 69664131.jpg\n",
            "등록번호 변환 오류: 69788556.jpg\n",
            "등록번호 변환 오류: 24968443.jpg\n",
            "등록번호 변환 오류: 11662390.jpg\n",
            "등록번호 변환 오류: 69754159.jpg\n",
            "등록번호 변환 오류: 44340830.jpg\n",
            "등록번호 변환 오류: 69780824.jpg\n",
            "등록번호 변환 오류: 69097560.jpg\n",
            "등록번호 변환 오류: 68930431.jpg\n",
            "등록번호 변환 오류: 69105245.jpg\n",
            "등록번호 변환 오류: 63896891.jpg\n",
            "등록번호 변환 오류: 69153749.jpg\n",
            "등록번호 변환 오류: 69661017.jpg\n",
            "등록번호 변환 오류: 13575478.jpg\n",
            "등록번호 변환 오류: 69169410.jpg\n",
            "등록번호 변환 오류: 69009741.jpg\n",
            "등록번호 변환 오류: 19854179.jpg\n",
            "등록번호 변환 오류: 62831884.jpg\n",
            "등록번호 변환 오류: 68237985.jpg\n",
            "등록번호 변환 오류: 67102884.jpg\n",
            "등록번호 변환 오류: 69274026.jpg\n",
            "등록번호 변환 오류: 63177064.jpg\n",
            "등록번호 변환 오류: 69387605.jpg\n",
            "등록번호 변환 오류: 50096277.jpg\n",
            "등록번호 변환 오류: 42520250.jpg\n",
            "등록번호 변환 오류: 69213393.jpg\n",
            "등록번호 변환 오류: 69589735.jpg\n",
            "등록번호 변환 오류: 69040230.jpg\n",
            "등록번호 변환 오류: 69396382.jpg\n",
            "등록번호 변환 오류: 69129272.jpg\n",
            "등록번호 변환 오류: 54815153.jpg\n",
            "등록번호 변환 오류: 69600649.jpg\n",
            "등록번호 변환 오류: 69850141.jpg\n",
            "등록번호 변환 오류: 42530480.jpg\n",
            "등록번호 변환 오류: 69730526.jpg\n",
            "등록번호 변환 오류: 69724608.jpg\n",
            "등록번호 변환 오류: 62682075.jpg\n",
            "등록번호 변환 오류: 69655339.jpg\n",
            "등록번호 변환 오류: 69721058.jpg\n",
            "등록번호 변환 오류: 65634789.jpg\n",
            "등록번호 변환 오류: 69250462.jpg\n",
            "등록번호 변환 오류: 61253188.jpg\n",
            "등록번호 변환 오류: 56468685.jpg\n",
            "등록번호 변환 오류: 41546475.jpg\n",
            "등록번호 변환 오류: 68192950.jpg\n",
            "등록번호 변환 오류: 66175391.jpg\n",
            "등록번호 변환 오류: 69473520.jpg\n",
            "등록번호 변환 오류: 69460670.jpg\n",
            "등록번호 변환 오류: 69347265.jpg\n",
            "등록번호 변환 오류: 69419999.jpg\n",
            "등록번호 변환 오류: 41192599.jpg\n",
            "등록번호 변환 오류: 69325607.jpg\n",
            "등록번호 변환 오류: 69561179.jpg\n",
            "등록번호 변환 오류: 69788501.jpg\n",
            "등록번호 변환 오류: 68209012.jpg\n",
            "등록번호 변환 오류: 69811999.jpg\n",
            "등록번호 변환 오류: 61859663.jpg\n",
            "등록번호 변환 오류: 69513334.jpg\n",
            "등록번호 변환 오류: 67848212.jpg\n",
            "등록번호 변환 오류: 36964019.jpg\n",
            "등록번호 변환 오류: 39681375.jpg\n",
            "등록번호 변환 오류: 33087115.jpg\n",
            "등록번호 변환 오류: 67251483.jpg\n"
          ]
        }
      ]
    },
    {
      "cell_type": "code",
      "source": [
        "# images folder 내의 데이터를 'train', 'test' 폴더를 생성한 후 train_test_split으로 나누어 각각 저장해야 합니다.\n",
        "\n",
        "# 파일을 train_test_split method를 통해 'train', 'test' 폴더에 분류합니다. stratified by 'collection_rate_class'.\n",
        "\n",
        "from sklearn.model_selection import train_test_split\n",
        "import os\n",
        "import pandas as pd\n",
        "import shutil\n",
        "\n",
        "data_dir= '/content/drive/MyDrive/박도현 교수님 연구실/췌액 채취 속도/collection rate classification into two classes ViT/images'\n",
        "\n",
        "# 데이터 디렉토리에서 파일 이름 가져오기\n",
        "file_names = os.listdir(data_dir)\n",
        "\n",
        "# 파일 이름에서 정보를 추출하고 DataFrame 생성\n",
        "file_info = []\n",
        "df['reg_num']=df['등록번호'].astype(int)\n",
        "\n",
        "for file_name in file_names:\n",
        "    if os.path.isfile(os.path.join(data_dir, file_name)):\n",
        "        # '등록번호' '이름' 'collection_rate_class'로 구분\n",
        "        parts = file_name.split('.')\n",
        "        reg_num = int(parts[0])  # 확장자 제거\n",
        "        collection_rate_class=df[df['reg_num']==int(reg_num)]['collection_rate_class'].values[0]\n",
        "        file_info.append({'file_path': os.path.join(data_dir, file_name), 'file_name': file_name, 'reg_num': reg_num, 'collection_rate_class': collection_rate_class})\n",
        "\n",
        "# DataFrame 생성\n",
        "df_temp = pd.DataFrame(file_info)\n",
        "\n",
        "# DataFrame 확인\n",
        "print(df_temp)\n",
        "\n",
        "# train, test 분할\n",
        "train_df, test_df = train_test_split(df_temp, test_size=0.3, stratify=df_temp['collection_rate_class'], random_state=42)\n",
        "\n",
        "# train, test 디렉토리 경로 설정\n",
        "train_dir = os.path.join(data_dir, 'train')\n",
        "test_dir = os.path.join(data_dir, 'test')\n",
        "\n",
        "def copy_files(file_df, target_dir):\n",
        "    os.makedirs(target_dir, exist_ok=True)\n",
        "    for _, row in file_df.iterrows():\n",
        "        src_path = train_df['file_path'].values[0]\n",
        "        dst_path = os.path.join(target_dir, row['file_name'])\n",
        "        os.makedirs(os.path.dirname(dst_path), exist_ok=True)\n",
        "        shutil.copy(src_path, dst_path)\n",
        "\n",
        "# train, val 디렉토리에 파일 복사\n",
        "copy_files(train_df, train_dir)\n",
        "copy_files(test_df, test_dir)\n",
        "\n",
        "print(\"파일 분류가 완료되었습니다.\")\n"
      ],
      "metadata": {
        "colab": {
          "base_uri": "https://localhost:8080/"
        },
        "id": "gCokoSzT0wDi",
        "outputId": "c337b7fe-5b83-4de8-e4c9-bfc7cc7fda24"
      },
      "execution_count": null,
      "outputs": [
        {
          "output_type": "stream",
          "name": "stdout",
          "text": [
            "                                            file_path     file_name   reg_num  \\\n",
            "0   /content/drive/MyDrive/박도현 교수님 연구ᄉ...  33852489.jpg  33852489   \n",
            "1   /content/drive/MyDrive/박도현 교수님 연구ᄉ...  62323268.jpg  62323268   \n",
            "2   /content/drive/MyDrive/박도현 교수님 연구ᄉ...  35167644.jpg  35167644   \n",
            "3   /content/drive/MyDrive/박도현 교수님 연구ᄉ...  68039491.jpg  68039491   \n",
            "4   /content/drive/MyDrive/박도현 교수님 연구ᄉ...  69679582.jpg  69679582   \n",
            "..                                                ...           ...       ...   \n",
            "72  /content/drive/MyDrive/박도현 교수님 연구ᄉ...  67848212.jpg  67848212   \n",
            "73  /content/drive/MyDrive/박도현 교수님 연구ᄉ...  36964019.jpg  36964019   \n",
            "74  /content/drive/MyDrive/박도현 교수님 연구ᄉ...  39681375.jpg  39681375   \n",
            "75  /content/drive/MyDrive/박도현 교수님 연구ᄉ...  33087115.jpg  33087115   \n",
            "76  /content/drive/MyDrive/박도현 교수님 연구ᄉ...  67251483.jpg  67251483   \n",
            "\n",
            "    collection_rate_class  \n",
            "0                       2  \n",
            "1                       2  \n",
            "2                       2  \n",
            "3                       2  \n",
            "4                       2  \n",
            "..                    ...  \n",
            "72                      1  \n",
            "73                      1  \n",
            "74                      2  \n",
            "75                      2  \n",
            "76                      2  \n",
            "\n",
            "[77 rows x 4 columns]\n",
            "파일 분류가 완료되었습니다.\n"
          ]
        }
      ]
    },
    {
      "cell_type": "code",
      "source": [
        "# dataset 형식에 맞추어, folder 내에 'image' 폴더를 만들고, 'labels' 라는 csv를 만드는데, A separate CSV or JSON file that maps image filenames to their corresponding labels.\n",
        "\n",
        "labels=df_temp[['file_path', 'collection_rate_class']]\n",
        "labels = labels.rename(columns={'collection_rate_class': 'label'})\n",
        "\n",
        "# Set the file path\n",
        "labels_path = '/content/drive/MyDrive/박도현 교수님 연구실/췌액 채취 속도/collection rate classification into two classes ViT/labels.csv'\n",
        "\n",
        "# Save the DataFrame to a CSV file\n",
        "labels.to_csv(labels_path, index=False)"
      ],
      "metadata": {
        "id": "2st8qzt5GrC2"
      },
      "execution_count": null,
      "outputs": []
    },
    {
      "cell_type": "code",
      "source": [
        "from datasets import load_dataset, ClassLabel\n",
        "\n",
        "# Load the dataset\n",
        "dataset = load_dataset('csv',\n",
        "                       data_files='/content/drive/MyDrive/박도현 교수님 연구실/췌액 채취 속도/collection rate classification into two classes ViT/labels.csv')\n",
        "\n",
        "# Convert 'label' column to ClassLabel\n",
        "dataset = dataset.map(lambda x: {'label': int(x['label'])})  # Ensure labels are integers\n",
        "label_classes = ClassLabel(names=list(set(dataset['train']['label'])))  # Define unique label classes\n",
        "dataset = dataset.cast_column('label', label_classes)  # Cast 'label' column to ClassLabel\n",
        "\n",
        "# Perform the train-test split with stratification\n",
        "train_test_split = dataset['train'].train_test_split(test_size=0.2, stratify_by_column='label', seed=42)\n",
        "\n",
        "# Access the train and test sets\n",
        "train_dataset = train_test_split['train']\n",
        "test_dataset = train_test_split['test']\n",
        "\n",
        "print(\"Train Dataset:\", train_dataset)\n",
        "print(\"Test Dataset:\", test_dataset)\n"
      ],
      "metadata": {
        "colab": {
          "base_uri": "https://localhost:8080/",
          "height": 252,
          "referenced_widgets": [
            "2a4ad7a375314aeb8b9cf4aaa41e6ce0",
            "824fd8f90f444a0fbec04aaa8730b35a",
            "1f2eeed92cd04d6c84dca02cf9903e67",
            "83270a57c2964633b9e3edc7af9f972d",
            "174ddcf78b3b4caf8149080c8ca8a43f",
            "182ddbac80c744f8ac159ec8644c8501",
            "799cb48c91d94d749d89230b3193bb58",
            "88969df823fb4e15bbcb90875b9de159",
            "24fec2da0ca44b4a98c996da3d0a9a2b",
            "60d6643975084f64b446b28bc87c9883",
            "6c39d30d51264efaab63d8a0cc5b49f4",
            "34253239e3c040adae51d5cdb2a2c4b4",
            "1ec424069fbe4fc08a8c08c52130232f",
            "6f06b2da1ca04f0eb13d03323ad63160",
            "0ed148f2319f4da3bbbbe1842eeb1152",
            "a084c66838c940fc8bf93f5320b4f054",
            "29e33f050a3940e8a3b071dff70dfceb",
            "50e6bd4ab11c4818a5d2b438406ec266",
            "edfc93538dab4c3c8492cfa07cd7efd8",
            "3fe1e09948bf44c1b62e28e3649a3ca3",
            "606cf287281c40028d13a3a071041c28",
            "687d2a8a262240af9d1921555fd3b760",
            "784b1a7ebb7b473b8427e7e01cda9299",
            "7e4f93e890f54a3185d7a119274b2263",
            "5df308d24e534e36b8c28603dd531eb0",
            "973bf0332fc14475a575d6da3c85ac04",
            "57a79dbfb3bd44989a1fb1ddd8190a23",
            "7dd9a71284b042d6831a9fe0ceb15e6d",
            "280b0542744e4553b7a33c03d2c22163",
            "562196f1a97d4833aeadf8c4a764b37a",
            "39f87b1ace4a4354b71f4b6902a081cc",
            "a5da9c63444e476abe953fdfd64f7c91",
            "5a1d113b15ce4c3fab43f29e6d6fa7e7"
          ]
        },
        "id": "ZtdHOraOwACL",
        "outputId": "b8472b2f-70ef-481e-8b5d-b4722dd47f64"
      },
      "execution_count": null,
      "outputs": [
        {
          "output_type": "display_data",
          "data": {
            "text/plain": [
              "Generating train split: 0 examples [00:00, ? examples/s]"
            ],
            "application/vnd.jupyter.widget-view+json": {
              "version_major": 2,
              "version_minor": 0,
              "model_id": "2a4ad7a375314aeb8b9cf4aaa41e6ce0"
            }
          },
          "metadata": {}
        },
        {
          "output_type": "display_data",
          "data": {
            "text/plain": [
              "Map:   0%|          | 0/77 [00:00<?, ? examples/s]"
            ],
            "application/vnd.jupyter.widget-view+json": {
              "version_major": 2,
              "version_minor": 0,
              "model_id": "34253239e3c040adae51d5cdb2a2c4b4"
            }
          },
          "metadata": {}
        },
        {
          "output_type": "display_data",
          "data": {
            "text/plain": [
              "Casting the dataset:   0%|          | 0/77 [00:00<?, ? examples/s]"
            ],
            "application/vnd.jupyter.widget-view+json": {
              "version_major": 2,
              "version_minor": 0,
              "model_id": "784b1a7ebb7b473b8427e7e01cda9299"
            }
          },
          "metadata": {}
        },
        {
          "output_type": "stream",
          "name": "stdout",
          "text": [
            "Train Dataset: Dataset({\n",
            "    features: ['file_path', 'label'],\n",
            "    num_rows: 61\n",
            "})\n",
            "Test Dataset: Dataset({\n",
            "    features: ['file_path', 'label'],\n",
            "    num_rows: 16\n",
            "})\n"
          ]
        }
      ]
    },
    {
      "cell_type": "code",
      "source": [
        "test_dataset[0]"
      ],
      "metadata": {
        "colab": {
          "base_uri": "https://localhost:8080/"
        },
        "id": "U4ipUXNgZAZp",
        "outputId": "7d137cec-816b-44f9-eb1a-0272b973c103"
      },
      "execution_count": null,
      "outputs": [
        {
          "output_type": "execute_result",
          "data": {
            "text/plain": [
              "{'file_path': '/content/drive/MyDrive/박도현 교수님 연구실/췌액 채취 속도/collection rate classification into two classes ViT/images/68209012.jpg',\n",
              " 'label': 2}"
            ]
          },
          "metadata": {},
          "execution_count": 12
        }
      ]
    },
    {
      "cell_type": "code",
      "source": [
        "# Get the numbers of each set\n",
        "test_num = len(test_dataset)\n",
        "train_num = len(train_dataset)\n",
        "\n",
        "val_size = test_num / train_num\n",
        "\n",
        "train_val_split = train_dataset.train_test_split(test_size=val_size)\n",
        "train_val_split"
      ],
      "metadata": {
        "colab": {
          "base_uri": "https://localhost:8080/"
        },
        "id": "xzII8aN-zvam",
        "outputId": "63365d76-66be-4d21-b8d7-90674c7bbe80"
      },
      "execution_count": null,
      "outputs": [
        {
          "output_type": "execute_result",
          "data": {
            "text/plain": [
              "DatasetDict({\n",
              "    train: Dataset({\n",
              "        features: ['file_path', 'label'],\n",
              "        num_rows: 45\n",
              "    })\n",
              "    test: Dataset({\n",
              "        features: ['file_path', 'label'],\n",
              "        num_rows: 16\n",
              "    })\n",
              "})"
            ]
          },
          "metadata": {},
          "execution_count": 13
        }
      ]
    },
    {
      "cell_type": "code",
      "source": [
        "# train dataset에서 validation dataset을 만듭니다\n",
        "\n",
        "from datasets import DatasetDict\n",
        "\n",
        "dataset = DatasetDict(\n",
        "    {\"train\": train_val_split[\"train\"], \"validation\": train_val_split[\"test\"], \"test\": test_dataset}\n",
        ")\n",
        "dataset"
      ],
      "metadata": {
        "colab": {
          "base_uri": "https://localhost:8080/"
        },
        "id": "svdcYKc-z591",
        "outputId": "8c9525d3-86e8-46b7-9e14-872c24546b6b"
      },
      "execution_count": null,
      "outputs": [
        {
          "output_type": "execute_result",
          "data": {
            "text/plain": [
              "DatasetDict({\n",
              "    train: Dataset({\n",
              "        features: ['file_path', 'label'],\n",
              "        num_rows: 45\n",
              "    })\n",
              "    validation: Dataset({\n",
              "        features: ['file_path', 'label'],\n",
              "        num_rows: 16\n",
              "    })\n",
              "    test: Dataset({\n",
              "        features: ['file_path', 'label'],\n",
              "        num_rows: 16\n",
              "    })\n",
              "})"
            ]
          },
          "metadata": {},
          "execution_count": 14
        }
      ]
    },
    {
      "cell_type": "code",
      "source": [
        "train_ds = dataset[\"train\"]\n",
        "val_ds = dataset[\"validation\"]\n",
        "test_ds = dataset[\"test\"]"
      ],
      "metadata": {
        "id": "mfqDvLr54Bfe"
      },
      "execution_count": null,
      "outputs": []
    },
    {
      "cell_type": "code",
      "source": [
        "train_ds[1]"
      ],
      "metadata": {
        "colab": {
          "base_uri": "https://localhost:8080/"
        },
        "id": "rvbXatHH4KqI",
        "outputId": "d0bc878d-536a-4e46-cf7e-efe363a46a69"
      },
      "execution_count": null,
      "outputs": [
        {
          "output_type": "execute_result",
          "data": {
            "text/plain": [
              "{'file_path': '/content/drive/MyDrive/박도현 교수님 연구실/췌액 채취 속도/collection rate classification into two classes ViT/images/62323268.jpg',\n",
              " 'label': 2}"
            ]
          },
          "metadata": {},
          "execution_count": 16
        }
      ]
    },
    {
      "cell_type": "code",
      "source": [
        "# Create mappings\n",
        "id2label = {id: label for id, label in enumerate(train_ds.features[\"label\"].names)}\n",
        "label2id = {label: id for id, label in id2label.items()}\n",
        "\n",
        "# Print the mappings\n",
        "print(\"id2label mapping:\", id2label)\n",
        "print(\"label2id mapping:\", label2id)\n",
        "\n",
        "# Check the label for the first sample\n",
        "first_sample_label = train_ds[0][\"label\"]\n",
        "print(\"Label for the first sample:\", first_sample_label)\n",
        "\n",
        "# Check if the first sample label is valid\n",
        "if first_sample_label in label2id:\n",
        "    print(\"Label name for the first sample:\", label2id[first_sample_label])\n",
        "else:\n",
        "    print(f\"Label index {first_sample_label} is not in id2label mapping.\")"
      ],
      "metadata": {
        "colab": {
          "base_uri": "https://localhost:8080/"
        },
        "id": "CQvGrP8b4SrL",
        "outputId": "a85e281f-2ada-429a-9ed3-4e9adee048be"
      },
      "execution_count": null,
      "outputs": [
        {
          "output_type": "stream",
          "name": "stdout",
          "text": [
            "id2label mapping: {0: 1, 1: 2}\n",
            "label2id mapping: {1: 0, 2: 1}\n",
            "Label for the first sample: 2\n",
            "Label name for the first sample: 1\n"
          ]
        }
      ]
    },
    {
      "cell_type": "code",
      "source": [
        "train_ds.features"
      ],
      "metadata": {
        "colab": {
          "base_uri": "https://localhost:8080/"
        },
        "id": "IOBcfRKK4L8I",
        "outputId": "6cf01bb8-0fe7-4433-e626-0edd8f8de49b"
      },
      "execution_count": null,
      "outputs": [
        {
          "output_type": "execute_result",
          "data": {
            "text/plain": [
              "{'file_path': Value(dtype='string', id=None),\n",
              " 'label': ClassLabel(names=[1, 2], id=None)}"
            ]
          },
          "metadata": {},
          "execution_count": 37
        }
      ]
    },
    {
      "cell_type": "code",
      "source": [
        "from transformers import ViTImageProcessor\n",
        "\n",
        "model_name = \"google/vit-large-patch16-224\"\n",
        "processor = ViTImageProcessor.from_pretrained(model_name)"
      ],
      "metadata": {
        "id": "w__36wvzbPL-"
      },
      "execution_count": null,
      "outputs": []
    },
    {
      "cell_type": "code",
      "source": [
        "from transformers import AutoImageProcessor\n",
        "\n",
        "# Use an actual model name, for example:\n",
        "processor = AutoImageProcessor.from_pretrained(\"google/vit-base-patch16-224\")\n",
        "\n",
        "from torchvision.transforms import (\n",
        "    CenterCrop,\n",
        "    Compose,\n",
        "    Normalize,\n",
        "    RandomHorizontalFlip, RandomVerticalFlip,\n",
        "    RandomResizedCrop,\n",
        "    ToTensor,\n",
        "    Resize,\n",
        ")\n",
        "\n",
        "image_mean, image_std = processor.image_mean, processor.image_std\n",
        "size = (224,224) #processor.size[\"height\"]\n",
        "\n",
        "normalize = Normalize(mean=image_mean, std=image_std)\n",
        "\n",
        "train_transforms = Compose(\n",
        "    [\n",
        "        Resize(size),\n",
        "        RandomHorizontalFlip(),\n",
        "        RandomVerticalFlip(),\n",
        "        ToTensor(),\n",
        "        normalize,\n",
        "    ]\n",
        ")\n",
        "val_transforms = Compose(\n",
        "    [\n",
        "        Resize(size),\n",
        "        ToTensor(),\n",
        "        normalize,\n",
        "    ]\n",
        ")\n",
        "test_transforms = Compose(\n",
        "    [\n",
        "        Resize(size),\n",
        "        ToTensor(),\n",
        "        normalize,\n",
        "    ]\n",
        ")"
      ],
      "metadata": {
        "colab": {
          "base_uri": "https://localhost:8080/"
        },
        "id": "Z9wPfV2kb8_U",
        "outputId": "23b98966-d2a6-4f18-cf34-93054f0520e9"
      },
      "execution_count": null,
      "outputs": [
        {
          "output_type": "stream",
          "name": "stderr",
          "text": [
            "Fast image processor class <class 'transformers.models.vit.image_processing_vit_fast.ViTImageProcessorFast'> is available for this model. Using slow image processor class. To use the fast image processor class set `use_fast=True`.\n"
          ]
        }
      ]
    },
    {
      "cell_type": "code",
      "source": [
        "from PIL import Image\n",
        "\n",
        "def apply_train_transforms(examples):\n",
        "    examples[\"pixel_values\"] = [train_transforms(Image.open(file_path).convert(\"RGB\")) for file_path in examples[\"file_path\"]]\n",
        "    return examples\n",
        "\n",
        "def apply_val_transforms(examples):\n",
        "    examples[\"pixel_values\"] = [val_transforms(Image.open(file_path).convert(\"RGB\")) for file_path in examples[\"file_path\"]]\n",
        "    return examples\n",
        "\n",
        "def apply_test_transforms(examples):\n",
        "    examples[\"pixel_values\"] = [val_transforms(Image.open(file_path).convert(\"RGB\")) for file_path in examples[\"file_path\"]]\n",
        "    return examples\n"
      ],
      "metadata": {
        "id": "fYbOVYmbciA5"
      },
      "execution_count": null,
      "outputs": []
    },
    {
      "cell_type": "code",
      "source": [
        "# apply transform functions to each set\n",
        "\n",
        "train_ds.set_transform(apply_train_transforms)\n",
        "val_ds.set_transform(apply_val_transforms)\n",
        "test_ds.set_transform(apply_test_transforms)"
      ],
      "metadata": {
        "id": "Iwmiwv_Od25t"
      },
      "execution_count": null,
      "outputs": []
    },
    {
      "cell_type": "code",
      "source": [
        "train_ds.features"
      ],
      "metadata": {
        "colab": {
          "base_uri": "https://localhost:8080/",
          "height": 141
        },
        "id": "rNup1HIUd95a",
        "outputId": "9329a98f-0be3-4e43-e886-8154eadad04d"
      },
      "execution_count": null,
      "outputs": [
        {
          "output_type": "error",
          "ename": "NameError",
          "evalue": "name 'train_ds' is not defined",
          "traceback": [
            "\u001b[0;31m---------------------------------------------------------------------------\u001b[0m",
            "\u001b[0;31mNameError\u001b[0m                                 Traceback (most recent call last)",
            "\u001b[0;32m<ipython-input-1-289222110c33>\u001b[0m in \u001b[0;36m<cell line: 1>\u001b[0;34m()\u001b[0m\n\u001b[0;32m----> 1\u001b[0;31m \u001b[0mtrain_ds\u001b[0m\u001b[0;34m.\u001b[0m\u001b[0mfeatures\u001b[0m\u001b[0;34m\u001b[0m\u001b[0;34m\u001b[0m\u001b[0m\n\u001b[0m",
            "\u001b[0;31mNameError\u001b[0m: name 'train_ds' is not defined"
          ]
        }
      ]
    },
    {
      "cell_type": "code",
      "source": [
        "# dataset는 Tensor으로 변환되었음을 확인합니다.\n",
        "\n",
        "train_ds[0]"
      ],
      "metadata": {
        "colab": {
          "base_uri": "https://localhost:8080/"
        },
        "id": "vg2PcVZMe8wi",
        "outputId": "b7e3e6d4-2bc3-43b6-e144-1e41b09b26c5"
      },
      "execution_count": null,
      "outputs": [
        {
          "output_type": "execute_result",
          "data": {
            "text/plain": [
              "{'file_path': '/content/drive/MyDrive/박도현 교수님 연구실/췌액 채취 속도/collection rate classification into two classes ViT/images/68505943.jpg',\n",
              " 'label': 2,\n",
              " 'pixel_values': tensor([[[-1., -1., -1.,  ..., -1., -1., -1.],\n",
              "          [-1., -1., -1.,  ..., -1., -1., -1.],\n",
              "          [-1., -1., -1.,  ..., -1., -1., -1.],\n",
              "          ...,\n",
              "          [-1., -1., -1.,  ..., -1., -1., -1.],\n",
              "          [-1., -1., -1.,  ..., -1., -1., -1.],\n",
              "          [-1., -1., -1.,  ..., -1., -1., -1.]],\n",
              " \n",
              "         [[-1., -1., -1.,  ..., -1., -1., -1.],\n",
              "          [-1., -1., -1.,  ..., -1., -1., -1.],\n",
              "          [-1., -1., -1.,  ..., -1., -1., -1.],\n",
              "          ...,\n",
              "          [-1., -1., -1.,  ..., -1., -1., -1.],\n",
              "          [-1., -1., -1.,  ..., -1., -1., -1.],\n",
              "          [-1., -1., -1.,  ..., -1., -1., -1.]],\n",
              " \n",
              "         [[-1., -1., -1.,  ..., -1., -1., -1.],\n",
              "          [-1., -1., -1.,  ..., -1., -1., -1.],\n",
              "          [-1., -1., -1.,  ..., -1., -1., -1.],\n",
              "          ...,\n",
              "          [-1., -1., -1.,  ..., -1., -1., -1.],\n",
              "          [-1., -1., -1.,  ..., -1., -1., -1.],\n",
              "          [-1., -1., -1.,  ..., -1., -1., -1.]]])}"
            ]
          },
          "metadata": {},
          "execution_count": 31
        }
      ]
    },
    {
      "cell_type": "code",
      "source": [
        "import torch\n",
        "from torch.utils.data import DataLoader\n",
        "\n",
        "def collate_fn(examples):\n",
        "    pixel_values = torch.stack([example[\"pixel_values\"] for example in examples])\n",
        "    labels = torch.tensor([example[\"label\"] for example in examples])\n",
        "    return {\"pixel_values\": pixel_values, \"labels\": labels}\n",
        "\n",
        "train_dl = DataLoader(train_ds, collate_fn=collate_fn, batch_size=4)"
      ],
      "metadata": {
        "id": "fuIYjW7GeEHY"
      },
      "execution_count": null,
      "outputs": []
    },
    {
      "cell_type": "code",
      "source": [
        "batch = next(iter(train_dl))\n",
        "for k, v in batch.items():\n",
        "    if isinstance(v, torch.Tensor):\n",
        "        print(k, v.shape)"
      ],
      "metadata": {
        "colab": {
          "base_uri": "https://localhost:8080/"
        },
        "id": "jOcrvP4cfpJZ",
        "outputId": "f3724a05-af9a-4aa9-ea94-3bfd4c6e7385"
      },
      "execution_count": null,
      "outputs": [
        {
          "output_type": "stream",
          "name": "stdout",
          "text": [
            "pixel_values torch.Size([4, 3, 224, 224])\n",
            "labels torch.Size([4])\n"
          ]
        }
      ]
    },
    {
      "cell_type": "code",
      "source": [
        "# Fine-tuning the Model"
      ],
      "metadata": {
        "id": "VXNqMpAeftkg"
      },
      "execution_count": null,
      "outputs": []
    },
    {
      "cell_type": "code",
      "source": [
        "from transformers import ViTForImageClassification\n",
        "\n",
        "model = ViTForImageClassification.from_pretrained(\n",
        "    model_name, id2label=id2label, label2id=label2id, ignore_mismatched_sizes=True\n",
        ")"
      ],
      "metadata": {
        "id": "ROtILu74gljN"
      },
      "execution_count": null,
      "outputs": []
    },
    {
      "cell_type": "code",
      "source": [
        "from transformers import TrainingArguments, Trainer\n",
        "import numpy as np\n",
        "\n",
        "train_args = TrainingArguments(\n",
        "    output_dir=\"output-models\",\n",
        "    save_total_limit=2,\n",
        "    report_to=\"wandb\",\n",
        "    save_strategy=\"epoch\",\n",
        "    evaluation_strategy=\"epoch\",\n",
        "    learning_rate=2e-5,\n",
        "    per_device_train_batch_size=10,\n",
        "    per_device_eval_batch_size=4,\n",
        "    num_train_epochs=40,\n",
        "    weight_decay=0.01,\n",
        "    load_best_model_at_end=True,\n",
        "    logging_dir=\"logs\",\n",
        "    remove_unused_columns=False,\n",
        ")"
      ],
      "metadata": {
        "colab": {
          "base_uri": "https://localhost:8080/"
        },
        "id": "5LAmWez5gnQa",
        "outputId": "8e0f7f24-8b9f-4d29-fa63-b3a164b90e99"
      },
      "execution_count": null,
      "outputs": [
        {
          "output_type": "stream",
          "name": "stderr",
          "text": [
            "/usr/local/lib/python3.10/dist-packages/transformers/training_args.py:1525: FutureWarning: `evaluation_strategy` is deprecated and will be removed in version 4.46 of 🤗 Transformers. Use `eval_strategy` instead\n",
            "  warnings.warn(\n"
          ]
        }
      ]
    },
    {
      "cell_type": "code",
      "source": [
        "trainer = Trainer(\n",
        "    model,\n",
        "    train_args,\n",
        "    train_dataset=train_ds,\n",
        "    eval_dataset=val_ds,\n",
        "    data_collator=collate_fn,\n",
        "    tokenizer=processor,\n",
        ")\n",
        "trainer.train()"
      ],
      "metadata": {
        "colab": {
          "base_uri": "https://localhost:8080/",
          "height": 211
        },
        "id": "XW_NRabmgweH",
        "outputId": "55a56c39-9451-4e09-9d1e-cd6e5239300b"
      },
      "execution_count": null,
      "outputs": [
        {
          "output_type": "error",
          "ename": "NameError",
          "evalue": "name 'Trainer' is not defined",
          "traceback": [
            "\u001b[0;31m---------------------------------------------------------------------------\u001b[0m",
            "\u001b[0;31mNameError\u001b[0m                                 Traceback (most recent call last)",
            "\u001b[0;32m<ipython-input-1-dcebdcf50694>\u001b[0m in \u001b[0;36m<cell line: 1>\u001b[0;34m()\u001b[0m\n\u001b[0;32m----> 1\u001b[0;31m trainer = Trainer(\n\u001b[0m\u001b[1;32m      2\u001b[0m     \u001b[0mmodel\u001b[0m\u001b[0;34m,\u001b[0m\u001b[0;34m\u001b[0m\u001b[0;34m\u001b[0m\u001b[0m\n\u001b[1;32m      3\u001b[0m     \u001b[0mtrain_args\u001b[0m\u001b[0;34m,\u001b[0m\u001b[0;34m\u001b[0m\u001b[0;34m\u001b[0m\u001b[0m\n\u001b[1;32m      4\u001b[0m     \u001b[0mtrain_dataset\u001b[0m\u001b[0;34m=\u001b[0m\u001b[0mtrain_ds\u001b[0m\u001b[0;34m,\u001b[0m\u001b[0;34m\u001b[0m\u001b[0;34m\u001b[0m\u001b[0m\n\u001b[1;32m      5\u001b[0m     \u001b[0meval_dataset\u001b[0m\u001b[0;34m=\u001b[0m\u001b[0mval_ds\u001b[0m\u001b[0;34m,\u001b[0m\u001b[0;34m\u001b[0m\u001b[0;34m\u001b[0m\u001b[0m\n",
            "\u001b[0;31mNameError\u001b[0m: name 'Trainer' is not defined"
          ]
        }
      ]
    },
    {
      "cell_type": "code",
      "source": [
        "outputs = trainer.predict(test_ds)\n",
        "print(outputs.metrics)"
      ],
      "metadata": {
        "id": "I0Lhj_xvg0Gn"
      },
      "execution_count": null,
      "outputs": []
    },
    {
      "cell_type": "code",
      "source": [
        "from sklearn.metrics import confusion_matrix, ConfusionMatrixDisplay\n",
        "\n",
        "y_true = outputs.label_ids\n",
        "y_pred = outputs.predictions.argmax(1)\n",
        "\n",
        "labels = train_ds.features[\"label\"].names\n",
        "cm = confusion_matrix(y_true, y_pred)\n",
        "disp = ConfusionMatrixDisplay(confusion_matrix=cm, display_labels=labels)\n",
        "disp.plot(xticks_rotation=45)"
      ],
      "metadata": {
        "id": "yl80uu-qwBlH"
      },
      "execution_count": null,
      "outputs": []
    },
    {
      "cell_type": "code",
      "source": [
        "from sklearn.metrics import recall_score\n",
        "\n",
        "# Calculate the recall scores\n",
        "# 'None' calculates recall for each class separately\n",
        "recall = recall_score(y_true, y_pred, average=None)\n",
        "\n",
        "# Print the recall for each class\n",
        "for label, score in zip(labels, recall):\n",
        "    print(f\"Recall for {label}: {score:.2f}\")"
      ],
      "metadata": {
        "id": "heJ7YRbBwDdG"
      },
      "execution_count": null,
      "outputs": []
    }
  ]
}